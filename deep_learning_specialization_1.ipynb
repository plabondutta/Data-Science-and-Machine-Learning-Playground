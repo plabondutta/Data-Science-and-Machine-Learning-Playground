{
    "cells": [
        {
            "cell_type": "code",
            "execution_count": 1,
            "metadata": {},
            "outputs": [
                {
                    "name": "stdout",
                    "output_type": "stream",
                    "text": "[[ 56.    0.    4.4  68. ]\n [  1.2 104.   52.    8. ]\n [  1.8 135.   99.    0.9]]\n"
                }
            ],
            "source": "import numpy as np\nA=np.array([[56.0, 0.0, 4.4, 68.0],\n            [1.2, 104.0, 52.0, 8.0],\n            [1.8, 135.0, 99.0, 0.9]])\nprint(A)"
        },
        {
            "cell_type": "code",
            "execution_count": 5,
            "metadata": {},
            "outputs": [
                {
                    "name": "stdout",
                    "output_type": "stream",
                    "text": "[ 59.  239.  155.4  76.9]\n[[ 59.  239.  155.4  76.9]]\n"
                }
            ],
            "source": "cal=A.sum(axis=0)\nprint(cal)\nprint(cal.reshape(1,4))"
        },
        {
            "cell_type": "code",
            "execution_count": 6,
            "metadata": {},
            "outputs": [
                {
                    "name": "stdout",
                    "output_type": "stream",
                    "text": "[[94.91525424  0.          2.83140283 88.42652796]\n [ 2.03389831 43.51464435 33.46203346 10.40312094]\n [ 3.05084746 56.48535565 63.70656371  1.17035111]]\n"
                }
            ],
            "source": "percentage=100*A/cal.reshape(1,4)\nprint(percentage)"
        },
        {
            "cell_type": "code",
            "execution_count": 8,
            "metadata": {},
            "outputs": [
                {
                    "name": "stdout",
                    "output_type": "stream",
                    "text": "[[  2.25733702  -0.53757582 -14.14658307 ...   0.55796307   9.78355527\n    1.67206374]\n [ 16.28598202   0.16968034 -13.21349294 ... -18.87323005 -23.30878618\n    0.36278103]\n [-17.6278883  -12.08140871 -22.29795789 ... -11.47417407 -13.39561982\n    3.3051853 ]\n ...\n [  1.60230473  14.63882059  19.43025982 ...  25.90087819  -7.76334381\n  -23.69542052]\n [  2.65342747  -8.65838083   8.16376622 ...  21.56303487  16.45542268\n    5.90340147]\n [  4.58076725  25.94748637  13.25222097 ...  14.52179725 -10.03226975\n  -24.14034326]]\n(12288, 45)\n"
                }
            ],
            "source": "a = np.random.randn(12288, 150) # a.shape = (12288, 150)\nb = np.random.randn(150, 45) # b.shape = (150, 45)\nc = np.dot(a,b)\nprint(c)\nprint(c.shape)"
        },
        {
            "cell_type": "code",
            "execution_count": null,
            "metadata": {},
            "outputs": [],
            "source": ""
        }
    ],
    "metadata": {
        "kernelspec": {
            "display_name": "Python 3.6",
            "language": "python",
            "name": "python3"
        },
        "language_info": {
            "codemirror_mode": {
                "name": "ipython",
                "version": 3
            },
            "file_extension": ".py",
            "mimetype": "text/x-python",
            "name": "python",
            "nbconvert_exporter": "python",
            "pygments_lexer": "ipython3",
            "version": "3.6.9"
        }
    },
    "nbformat": 4,
    "nbformat_minor": 1
}