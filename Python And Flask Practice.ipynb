{
    "cells": [
        {
            "metadata": {
                "collapsed": true
            },
            "cell_type": "markdown",
            "source": "### Python Destructuring Variable\nTuple Unpacking"
        },
        {
            "metadata": {},
            "cell_type": "code",
            "source": "a=(9,14)\n(x,y)=(9,4)\n#or\n(x,y)=a\nprint(x,y)",
            "execution_count": 1,
            "outputs": [
                {
                    "output_type": "stream",
                    "text": "9 14\n",
                    "name": "stdout"
                }
            ]
        },
        {
            "metadata": {},
            "cell_type": "code",
            "source": "student_details = {\"plabon\":70,\"piu\":71,\"shovon\":72}\nprint(student_details)\nprint(student_details.items())\nprint(list(student_details.items()))",
            "execution_count": 6,
            "outputs": [
                {
                    "output_type": "stream",
                    "text": "{'plabon': 70, 'piu': 71, 'shovon': 72}\ndict_items([('plabon', 70), ('piu', 71), ('shovon', 72)])\n[('plabon', 70), ('piu', 71), ('shovon', 72)]\n",
                    "name": "stdout"
                }
            ]
        },
        {
            "metadata": {},
            "cell_type": "code",
            "source": "for name,roll in student_details.items():\n    print(name,roll)",
            "execution_count": 8,
            "outputs": [
                {
                    "output_type": "stream",
                    "text": "plabon 70\npiu 71\nshovon 72\n",
                    "name": "stdout"
                }
            ]
        },
        {
            "metadata": {},
            "cell_type": "code",
            "source": "for student in student_details.items():\n    print(student) #will return tuples\n    print(student[0],student[1])",
            "execution_count": 11,
            "outputs": [
                {
                    "output_type": "stream",
                    "text": "('plabon', 70)\nplabon 70\n('piu', 71)\npiu 71\n('shovon', 72)\nshovon 72\n",
                    "name": "stdout"
                }
            ]
        },
        {
            "metadata": {},
            "cell_type": "code",
            "source": "head, *tail = [1,2,3,4,5]\nprint(head)\nprint(tail)",
            "execution_count": null,
            "outputs": []
        },
        {
            "metadata": {},
            "cell_type": "markdown",
            "source": "### Lambda Function"
        },
        {
            "metadata": {},
            "cell_type": "code",
            "source": "def add(x, y):\n    return x + y\nprint(add(5, 7))\n\n# -- Written as a lambda --\n\nadd = lambda x, y: x + y\nprint(add(5, 7))",
            "execution_count": 14,
            "outputs": [
                {
                    "output_type": "stream",
                    "text": "12\n12\n",
                    "name": "stdout"
                }
            ]
        },
        {
            "metadata": {},
            "cell_type": "code",
            "source": "(lambda x, y: x+y)(5, 7)",
            "execution_count": 15,
            "outputs": [
                {
                    "output_type": "execute_result",
                    "execution_count": 15,
                    "data": {
                        "text/plain": "12"
                    },
                    "metadata": {}
                }
            ]
        },
        {
            "metadata": {},
            "cell_type": "code",
            "source": "def double(x):\n    return x * 2\n\nsequence = [1, 3, 5, 9]\n\ndoubled = [double(x) for x in sequence]  # Put the result of double(x) in a new list, for each of the values in `sequence`\ndoubled = map(double, sequence)\nprint(list(doubled))\n\n# -- Written as a lambda --\n\nsequence = [1, 3, 5, 9]\n\ndoubled = map(lambda x: x * 2, sequence)\nprint(list(doubled)) #map function doesn't return a list by default, it returns a map object\n\n# -- Important to remember --\n# Lambdas are just functions without a name.\n# They are used to return a value calculated from its parameters.\n# Almost always single-line, so don't do anything complicated in them.\n# Very often better to just define a function and give it a proper name.",
            "execution_count": 18,
            "outputs": [
                {
                    "output_type": "stream",
                    "text": "[2, 6, 10, 18]\n[2, 6, 10, 18]\n",
                    "name": "stdout"
                }
            ]
        },
        {
            "metadata": {},
            "cell_type": "markdown",
            "source": "### Dictionary Comprehension"
        },
        {
            "metadata": {},
            "cell_type": "code",
            "source": "users = [\n    (0, \"Bob\", \"password\"),\n    (1, \"Rolf\", \"bob123\"),\n    (2, \"Jose\", \"longp4assword\"),\n    (3, \"username\", \"1234\"),\n]\n\nusername_mapping = {user[1]: user for user in users}\nuserid_mapping = {user[0]: user for user in users}\n\nprint(username_mapping)\n\nprint(username_mapping[\"Bob\"])  # (0, \"Bob\", \"password\")\n\n# -- Can be useful to log in for example --\n\nusername_input = input(\"Enter your username: \")\npassword_input = input(\"Enter your password: \")\n\n_, username, password = username_mapping[username_input]\n\nif password_input == password:\n    print(\"Your details are correct!\")\nelse:\n    print(\"Your details are incorrect.\")\n\n# If we didn't use the mapping, the code would require us to loop over all users.\n# Shown on the side, pause the video if you want to read it thoroughly.\n",
            "execution_count": null,
            "outputs": [
                {
                    "output_type": "stream",
                    "text": "{'Bob': (0, 'Bob', 'password'), 'Rolf': (1, 'Rolf', 'bob123'), 'Jose': (2, 'Jose', 'longp4assword'), 'username': (3, 'username', '1234')}\n(0, 'Bob', 'password')\n",
                    "name": "stdout"
                }
            ]
        },
        {
            "metadata": {},
            "cell_type": "markdown",
            "source": "### Dictionary Comprehension: Part 2"
        },
        {
            "metadata": {},
            "cell_type": "code",
            "source": "#general template for dictionary comprehension\ndict_variable = {key:value for (key,value) in dictonary.items()}",
            "execution_count": null,
            "outputs": []
        },
        {
            "metadata": {},
            "cell_type": "code",
            "source": "dict1 = {'a': 1, 'b': 2, 'c': 3, 'd': 4, 'e': 5}\n# Double each value in the dictionary\ndouble_dict1 = {k:v*2 for (k,v) in dict1.items()}\nprint(double_dict1)",
            "execution_count": 2,
            "outputs": [
                {
                    "output_type": "stream",
                    "text": "{'a': 2, 'b': 4, 'c': 6, 'd': 8, 'e': 10}\n",
                    "name": "stdout"
                }
            ]
        },
        {
            "metadata": {},
            "cell_type": "code",
            "source": "numbers = range(10)\nprint(list(numbers))\nnew_dict_comp = {n:n**2 for n in numbers if n%2 == 0}\nprint(new_dict_comp)",
            "execution_count": 4,
            "outputs": [
                {
                    "output_type": "stream",
                    "text": "[0, 1, 2, 3, 4, 5, 6, 7, 8, 9]\n{0: 0, 2: 4, 4: 16, 6: 36, 8: 64}\n",
                    "name": "stdout"
                }
            ]
        },
        {
            "metadata": {},
            "cell_type": "code",
            "source": "dict1 = {'a': 1, 'b': 2, 'c': 3, 'd': 4, 'e': 5}\n# Check for items greater than 2\ndict1_cond = {k:v for (k,v) in dict1.items() if v>2}\nprint(dict1_cond)\n\ndict1_doubleCond = {k:v for (k,v) in dict1.items() if v>2 if v%2 == 0}\nprint(dict1_doubleCond)",
            "execution_count": 5,
            "outputs": [
                {
                    "output_type": "stream",
                    "text": "{'c': 3, 'd': 4, 'e': 5}\n{'d': 4}\n",
                    "name": "stdout"
                }
            ]
        },
        {
            "metadata": {},
            "cell_type": "markdown",
            "source": "### Python OOP"
        },
        {
            "metadata": {},
            "cell_type": "markdown",
            "source": "#class and instance variable\n```python\nclass ClassName(object):\n  class_variable = value #value shared across all class instances\n\n  def __init__(instance_variable_value):\n    self.instance_variable = instance_variable_value #value specific to instance. Instance variables are usually initialized in methods\n\n#accessing instance variable\nclass_instance = ClassName()\nclass_instance.instance_variable\n\n#accessing class variable\nClassName.class_variable\nclass_instance.class_variable\n```"
        },
        {
            "metadata": {},
            "cell_type": "code",
            "source": "class Person:\n    def __init__(self, name, age):\n        self.name = name\n        self.age = age\n\n\nbob = Person(\"Bob\", 35)\nprint(bob)  # Not the nicest thing to read!\n\n# -- __str__ --\n# The goal of __str__ is to return a nice, easy to read string for end users.\n\n\nclass Person:\n    def __init__(self, name, age):\n        self.name = name\n        self.age = age\n\n    def __str__(self):\n        return f\"Person {self.name}, {self.age} years old\"\n\n\nbob = Person(\"Bob\", 35)\nprint(bob)  # Much nicer\n\n# -- __repr__ --\n# The goal of __repr__ is to be unambiguous, and if possible what it outputs should allow us to re-create an identical object.\n\n\nclass Person:\n    def __init__(self, name, age):\n        self.name = name\n        self.age = age\n\n    def __repr__(self):\n        # I'm adding the < > just so it's clear that this is an object we're printing out!\n        return (\n            f\"<Person({self.name!r}, {self.age})>\"\n        )  # !r calls the __repr__ method of the thing.\n\n\nbob = Person(\"Bob\", 35)\nprint(bob)  # Not as nice, but we could re-create \"Bob\" very easily.\n",
            "execution_count": null,
            "outputs": []
        },
        {
            "metadata": {},
            "cell_type": "markdown",
            "source": "#### classmethod and staticmethod"
        },
        {
            "metadata": {},
            "cell_type": "code",
            "source": "class ClassTest:\n    def instance_method(self):\n        print(f\"Called instance_method of {self}\")\n\n    @classmethod\n    def class_method(cls):\n        print(f\"Called class_method of {cls}\")\n\n    @staticmethod\n    def static_method():\n        print(f\"Called static_method. We don't get any object or class info here.\")\n\n\ninstance = ClassTest()\ninstance.instance_method()\n\nClassTest.class_method()\nClassTest.static_method()\n\n# -- What are they used for? --\n\n# Instance methods are used for most things. When you want to produce an action that uses the data stored in an object.\n# Static methods are used to just place a method inside a class because you feel it belongs there (i.e. for code organisation, mostly!)\n# Class methods are often used as factories.\n\n\nclass Book:\n    TYPES = (\"hardcover\", \"paperback\")\n\n    def __init__(self, name, book_type, weight):\n        self.name = name\n        self.book_type = book_type\n        self.weight = weight\n\n    def __repr__(self):\n        return f\"<Book {self.name}, {self.book_type}, weighing {self.weight}g>\"\n\n    @classmethod\n    def hardcover(cls, name, page_weight):\n        return cls(name, cls.TYPES[0], page_weight + 100)\n\n    @classmethod\n    def paperback(cls, name, page_weight):\n        return cls(name, cls.TYPES[1], page_weight)\n\n\nheavy = Book.hardcover(\"Harry Potter\", 1500)\nlight = Book.paperback(\"Python 101\", 600)\n\nprint(heavy)\nprint(light)\n",
            "execution_count": null,
            "outputs": []
        },
        {
            "metadata": {},
            "cell_type": "code",
            "source": "#Intehiretnce\n\nclass Device:\n    def __init__(self, name, connected_by):\n        self.name = name\n        self.connected_by = connected_by\n        self.connected = True\n\n    def __str__(self):\n        return f\"Device {self.name!r} ({self.connected_by})\"\n\n    def disconnect(self):\n        self.connected = False\n\n\n# printer = Device(\"Printer\", \"USB\")\n# print(printer)\n\n# We don't want to add printer-specific stuff to Device, so...\n\n\nclass Printer(Device):\n    def __init__(self, name, connected_by, capacity):\n        # super(Printer, self).__init__(name, connected_by)  - Python2.7\n        super().__init__(name, connected_by)  # Python3+\n        self.capacity = capacity\n        self.remaining_pages = capacity\n\n    def __str__(self):\n        return f\"{super().__str__()} ({self.remaining_pages} pages remaining)\"\n\n    def print(self, pages):\n        if not self.connected:\n            raise TypeError(\"Device is disconnected at this time, cannot print.\")\n        print(f\"Printing {pages} pages.\")\n        self.remaining_pages -= pages\n\n\nprinter = Printer(\"Printer\", \"USB\", 500)\nprinter.print(20)\nprint(printer)\nprinter.print(50)\nprint(printer)\nprinter.disconnect()\nprinter.print(30)  # Error",
            "execution_count": null,
            "outputs": []
        },
        {
            "metadata": {},
            "cell_type": "markdown",
            "source": "### Class Composition"
        },
        {
            "metadata": {},
            "cell_type": "code",
            "source": "# Something I see a lot, but you SHOULDN'T DO\n\n\nclass BookShelf:\n    def __init__(self, quantity):\n        self.quantity = quantity\n\n    def __str__(self):\n        return f\"BookShelf with {self.quantity} books.\"\n\n\nshelf = BookShelf(300)\n\n\nclass Book(BookShelf):\n    def __init__(self, name, quantity):\n        super().__init__(quantity)\n        self.name = name\n\n\n# This makes no sense, because now you need to pass `quantity` to a single book:\n\nbook = Book(\"Harry Potter\", 120)\nprint(book)  # What?\n\n# -- Composition over inheritance here --\n\n# Inheritance: \"A Book is a BookShelf\"\n# Composition: \"A BookShelf has many Books\"\n\n\nclass BookShelf:\n    def __init__(self, *books):\n        self.books = books\n\n    def __str__(self):\n        return f\"BookShelf with {len(self.books)} books.\"\n\n\nclass Book:\n    def __init__(self, name):\n        self.name = name\n\n\nbook = Book(\"Harry Potter\")\nbook2 = Book(\"Python 101\")\nshelf = BookShelf(book, book2)\nprint(shelf)\nprint(shelf.books)",
            "execution_count": 4,
            "outputs": [
                {
                    "output_type": "stream",
                    "text": "BookShelf with 120 books.\nBookShelf with 2 books.\n(<__main__.Book object at 0x7fb04c436198>, <__main__.Book object at 0x7fb04c436128>)\n",
                    "name": "stdout"
                }
            ]
        },
        {
            "metadata": {},
            "cell_type": "markdown",
            "source": "### Type Hinting in Python"
        },
        {
            "metadata": {},
            "cell_type": "code",
            "source": "def list_avg(sequence: list) -> float:\n    return sum(sequence) / len(sequence)\n\n\n# -- Type hinting classes --\n\n\nclass Book:\n    def __init__(self, name: str, page_count: int):\n        self.name = name\n        self.page_count = page_count\n\n\n# -- Lists and collections --\n\nfrom typing import List  # , Tuple, Set, etc...\n\n\nclass BookShelf:\n    def __init__(self, books: List[Book]):\n        self.books = books\n\n    def __str__(self) -> str:\n        return f\"BookShelf with {len(self.books)} books.\"\n\n\n# Key benefit is now you'll get told if you pass in the wrong thing...\n\nbook = Book(\n    \"Harry Potter\", \"352\"\n)  # Suggests this is incorrect if you have a tool that will analyse your code (e.g. PyCharm or Pylint)\nshelf = BookShelf(book)  # Suggests this is incorrect too\n# Type hinting is that: hints. It doesn't stop your code from working... although it can save you at times!\n\n# -- Hinting the current object --\n\n\nclass Book:\n    TYPES = (\"hardcover\", \"paperback\")\n\n    def __init__(self, name: str, book_type: str, weight: int):\n        self.name = name\n        self.book_type = book_type\n        self.weight = weight\n\n    def __repr__(self) -> str:\n        return f\"<Book {self.name}, {self.book_type}, weighing {self.weight}g>\"\n\n    @classmethod\n    def hardcover(cls, name: str, page_weight: int) -> \"Book\":\n        return cls(name, cls.TYPES[0], page_weight + 100)\n\n    @classmethod\n    def paperback(cls, name: str, page_weight: int) -> \"Book\":\n        return cls(name, cls.TYPES[1], page_weight)\n",
            "execution_count": null,
            "outputs": []
        },
        {
            "metadata": {},
            "cell_type": "markdown",
            "source": "### Exception Handling"
        },
        {
            "metadata": {},
            "cell_type": "code",
            "source": "def divide(dividend, divisor):\n    if divisor == 0:\n        raise ZeroDivisionError(\"Divisor cannot be 0.\")\n\n    return dividend / divisor\n\n\ngrades = []  # Imagine we have no grades yet\n# average = divide(sum(grades) / len(grades))  # Error!\n\ntry:\n    average = divide(sum(grades), len(grades))\n    print(average)\nexcept ZeroDivisionError as e:\n    print(e)\n    # Much friendlier error message because now we're dealing with it\n    # In a \"students and grades\" context, not purely in a mathematical context\n    # I.e. it doesn't make sense to put \"There are no grades yet in your list\"\n    # inside the `divide` function, because you could be dividing something\n    # that isn't grades, in another program.\n    print(\"There are no grades yet in your list.\")\n\n# -- Built-in errors --\n\n# TypeError: something was the wrong type\n# ValueError: something had the wrong value\n# RuntimeError: most other things\n\n# Full list of built-in errors: https://docs.python.org/3/library/exceptions.html\n\n\n# -- Doing something if no error is raised --\n\ngrades = [90, 100, 85]\n\ntry:\n    average = divide(sum(grades), len(grades))\nexcept ZeroDivisionError:\n    print(\"There are no grades yet in your list.\")\nelse:\n    print(f\"The average was {average}\")\n\n\n# -- Doing something no matter what --\n# This is particularly useful when dealing with resources that you open and then must close\n# The `finally` part always runs, so you could use it to close things down\n# You can also use it to print something at the end of your try-block if you like.\n\nstudents = [\n    {\"name\": \"Bob\", \"grades\": [75, 90]},\n    {\"name\": \"Rolf\", \"grades\": []},\n    {\"name\": \"Jen\", \"grades\": [100, 90]},\n]\n\ntry:\n    for student in students:\n        name = student[\"name\"]\n        grades = student[\"grades\"]\n        average = divide(sum(grades), len(grades))\n        print(f\"{name} averaged {average}.\")\nexcept ZeroDivisionError:\n    print(f\"ERROR: {name} has no grades!\")\nelse:\n    print(\"-- All student averages calculated --\")\nfinally:\n    print(\"-- End of student average calculation --\")\n",
            "execution_count": null,
            "outputs": []
        },
        {
            "metadata": {},
            "cell_type": "markdown",
            "source": "### Custom Error Class"
        },
        {
            "metadata": {},
            "cell_type": "code",
            "source": "class Book:\n    def __init__(self, name: str, page_count: int):\n        self.name = name\n        self.page_count = page_count\n        self.pages_read = 0\n\n    def __repr__(self):\n        return (\n            f\"<Book {self.name}, read {self.pages_read} pages out of {self.page_count}>\"\n        )\n\n    def read(self, pages: int):\n        self.pages_read += pages\n        print(f\"You have now read {self.pages_read} pages out of {self.page_count}\")\n\n\npython101 = Book(\"Python 101\", 50)\npython101.read(35)\npython101.read(50)  # Whaaaat\n\n# -- Errors used to prevent things from happening --\n\n\nclass TooManyPagesReadError(ValueError):\n    pass\n\n\nclass Book:\n    def __init__(self, name: str, page_count: int):\n        self.name = name\n        self.page_count = page_count\n        self.pages_read = 0\n\n    def __repr__(self):\n        return (\n            f\"<Book {self.name}, read {self.pages_read} pages out of {self.page_count}>\"\n        )\n\n    def read(self, pages: int):\n        if self.pages_read + pages > self.page_count:\n            raise TooManyPagesReadError(\n                f\"You tried to read {self.pages_read + pages} pages, but this book only has {self.page_count} pages.\"\n            )\n        self.pages_read += pages\n        print(f\"You have now read {self.pages_read} pages out of {self.page_count}\")\n\n\npython101 = Book(\"Python 101\", 50)\npython101.read(35)\npython101.read(\n    50\n)  # This now raises an error, which has a helpful name and a helpful error message.\n",
            "execution_count": null,
            "outputs": []
        },
        {
            "metadata": {},
            "cell_type": "markdown",
            "source": "### Python First Class Function"
        },
        {
            "metadata": {},
            "cell_type": "code",
            "source": "# A first class function just means that functions can be passed as arguments to functions.\n\n\ndef calculate(*values, operator):\n    return operator(*values)\n\n\ndef divide(dividend, divisor):\n    if divisor != 0:\n        return dividend / divisor\n    else:\n        return \"You fool!\"\n\n\n# We pass the `divide` function as an argument\nresult = calculate(20, 4, operator=divide)\nprint(result)\n\n\ndef average(*values):\n    return sum(values) / len(values)\n\n\nresult = calculate(10, 20, 30, 40, operator=average)\nprint(result)\n\n# -- searching with first-class functions --\n\n\ndef search(sequence, expected, finder):\n    for elem in sequence:\n        if finder(elem) == expected:\n            return elem\n    raise RuntimeError(f\"Could not find an element with {expected}\")\n\n\nfriends = [\n    {\"name\": \"Rolf Smith\", \"age\": 24},\n    {\"name\": \"Adam Wool\", \"age\": 30},\n    {\"name\": \"Anne Pun\", \"age\": 27},\n]\n\n\ndef get_friend_name(friend):\n    return friend[\"name\"]\n\n\nprint(search(friends, \"Bob Smith\", get_friend_name))\n\n# -- using lambdas since this can be simple enough --\n\n\ndef search(sequence, expected, finder):\n    for elem in sequence:\n        if finder(elem) == expected:\n            return elem\n    raise RuntimeError(f\"Could not find an element with {expected}\")\n\n\nfriends = [\n    {\"name\": \"Rolf Smith\", \"age\": 24},\n    {\"name\": \"Adam Wool\", \"age\": 30},\n    {\"name\": \"Anne Pun\", \"age\": 27},\n]\n\nprint(search(friends, \"Bob Smith\", lambda friend: friend[\"name\"]))\n\n\n# -- or as an extra, using built-in functions --\n\nfrom operator import itemgetter\n\n\ndef search(sequence, expected, finder):\n    for elem in sequence:\n        if finder(elem) == expected:\n            return elem\n    raise RuntimeError(f\"Could not find an element with {expected}\")\n\n\nfriends = [\n    {\"name\": \"Rolf Smith\", \"age\": 24},\n    {\"name\": \"Adam Wool\", \"age\": 30},\n    {\"name\": \"Anne Pun\", \"age\": 27},\n]\n\nprint(search(friends, \"Rolf Smith\", itemgetter(\"name\")))\n",
            "execution_count": null,
            "outputs": []
        },
        {
            "metadata": {},
            "cell_type": "markdown",
            "source": "### Decorator"
        },
        {
            "metadata": {},
            "cell_type": "code",
            "source": "user = {\"username\": \"jose\", \"access_level\": \"guest\"}\n\n\ndef make_secure(func):\n    def secure_function():\n        if user[\"access_level\"] == \"admin\":\n            return func()\n        else:\n            return f\"No admin permissions for {user['username']}.\"\n\n    return secure_function\n\n\n@make_secure\ndef get_admin_password():\n    return \"1234\"\n\n\n# -- keeping function name and docstring --\nimport functools\n\n\nuser = {\"username\": \"jose\", \"access_level\": \"guest\"}\n\n\ndef make_secure(func):\n    @functools.wraps(func)\n    def secure_function():\n        if user[\"access_level\"] == \"admin\":\n            return func()\n        else:\n            return f\"No admin permissions for {user['username']}.\"\n\n    return secure_function\n\n\n@make_secure\ndef get_admin_password():\n    return \"1234\"\n",
            "execution_count": null,
            "outputs": []
        },
        {
            "metadata": {},
            "cell_type": "markdown",
            "source": "#### Decorating functions with parameters"
        },
        {
            "metadata": {},
            "cell_type": "code",
            "source": "import functools\n\n\nuser = {\"username\": \"jose\", \"access_level\": \"guest\"}\n\n\ndef make_secure(func):\n    @functools.wraps(func)\n    def secure_function(panel):\n        if user[\"access_level\"] == \"admin\":\n            return func(panel)\n        else:\n            return f\"No admin permissions for {user['username']}.\"\n\n    return secure_function\n\n\n@make_secure\ndef get_password(panel):\n    if panel == \"admin\":\n        return \"1234\"\n    elif panel == \"billing\":\n        return \"super_secure_password\"\n\n\n# print(get_password(\"admin\"))  # Error before adding parameters, works after\n# But now we've coupled our function to our decorator. We can't decorate a different function, which isn't great!\n# Instead we could take unlimited parameters and pass whatever we get down to the original function\n\n\ndef make_secure(func):\n    @functools.wraps(func)\n    def secure_function(*args, **kwargs):\n        if user[\"access_level\"] == \"admin\":\n            return func(*args, **kwargs)\n        else:\n            return f\"No admin permissions for {user['username']}.\"\n\n    return secure_function\n\n\n@make_secure\ndef get_password(panel):\n    if panel == \"admin\":\n        return \"1234\"\n    elif panel == \"billing\":\n        return \"super_secure_password\"\n\n\nprint(get_password(\"admin\"))\nprint(get_password(\"billing\"))\n\nuser = {\"username\": \"bob\", \"access_level\": \"admin\"}\n\nprint(get_password(\"admin\"))\nprint(get_password(\"billing\"))",
            "execution_count": 1,
            "outputs": [
                {
                    "output_type": "stream",
                    "text": "No admin permissions for jose.\nNo admin permissions for jose.\n1234\nsuper_secure_password\n",
                    "name": "stdout"
                }
            ]
        },
        {
            "metadata": {},
            "cell_type": "markdown",
            "source": "#### Decorators with parameters"
        },
        {
            "metadata": {},
            "cell_type": "code",
            "source": "import functools\n\nuser = {\"username\": \"anna\", \"access_level\": \"user\"}\n\n\ndef make_secure(func):\n    @functools.wraps(func)\n    def secure_function(*args, **kwargs):\n        if user[\"access_level\"] == \"admin\":\n            return func(*args, **kwargs)\n        else:\n            return f\"No admin permissions for {user['username']}.\"\n\n    return secure_function\n\n\n@make_secure\ndef get_admin_password():\n    return \"admin: 1234\"\n\n\n@make_secure\ndef get_dashboard_password():\n    return \"user: user_password\"\n\n\n# What if we wanted some passwords to be available to \"user\" and others to \"admin\" ?\n\nuser = {\"username\": \"anna\", \"access_level\": \"user\"}\n\n\ndef make_secure(access_level):\n    def decorator(func):\n        @functools.wraps(func)\n        def secure_function(*args, **kwargs):\n            if user[\"access_level\"] == access_level:\n                return func(*args, **kwargs)\n            else:\n                return f\"No {access_level} permissions for {user['username']}.\"\n\n        return secure_function\n\n    return decorator\n\n\n@make_secure(\n    \"admin\"\n)  # This runs the make_secure function, which returns decorator. Essentially the same to doing `@decorator`, which is what we had before.\ndef get_admin_password():\n    return \"admin: 1234\"\n\n\n@make_secure(\"user\")\ndef get_dashboard_password():\n    return \"user: user_password\"\n\n\nprint(get_admin_password())\nprint(get_dashboard_password())\n\nuser = {\"username\": \"anna\", \"access_level\": \"admin\"}\n\nprint(get_admin_password())\nprint(get_dashboard_password())\n",
            "execution_count": 2,
            "outputs": [
                {
                    "output_type": "stream",
                    "text": "No admin permissions for anna.\nuser: user_password\nadmin: 1234\nNo user permissions for anna.\n",
                    "name": "stdout"
                }
            ]
        },
        {
            "metadata": {},
            "cell_type": "code",
            "source": "",
            "execution_count": null,
            "outputs": []
        }
    ],
    "metadata": {
        "kernelspec": {
            "name": "python3",
            "display_name": "Python 3.6",
            "language": "python"
        },
        "language_info": {
            "name": "python",
            "version": "3.6.9",
            "mimetype": "text/x-python",
            "codemirror_mode": {
                "name": "ipython",
                "version": 3
            },
            "pygments_lexer": "ipython3",
            "nbconvert_exporter": "python",
            "file_extension": ".py"
        }
    },
    "nbformat": 4,
    "nbformat_minor": 1
}