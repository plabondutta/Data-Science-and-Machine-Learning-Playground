{
    "cells": [
        {
            "metadata": {
                "collapsed": true
            },
            "cell_type": "markdown",
            "source": "# My Jupyter Notebook on IBM Data Science Experience"
        },
        {
            "metadata": {},
            "cell_type": "markdown",
            "source": "__Plabon Dutta__\n\nFull Stack Developer"
        },
        {
            "metadata": {},
            "cell_type": "markdown",
            "source": "_I am interested in data science because it's the future. Specially the tech industry is booming with opportunities for data scientists._"
        },
        {
            "metadata": {},
            "cell_type": "markdown",
            "source": "### The below code must be executed and must display an output"
        },
        {
            "metadata": {},
            "cell_type": "code",
            "source": "x=10\ny=5\nprint(x+y)",
            "execution_count": 2,
            "outputs": [
                {
                    "output_type": "stream",
                    "text": "15\n",
                    "name": "stdout"
                }
            ]
        },
        {
            "metadata": {},
            "cell_type": "markdown",
            "source": "1. Messi\n2. Ronaldo\n3. Van Dijk\n\n[I'm an inline-style link](https://www.google.com)\n\n- fish\n- meat\n- egg\n\n\n"
        },
        {
            "metadata": {},
            "cell_type": "code",
            "source": "",
            "execution_count": null,
            "outputs": []
        }
    ],
    "metadata": {
        "kernelspec": {
            "name": "python3",
            "display_name": "Python 3.6",
            "language": "python"
        },
        "language_info": {
            "name": "python",
            "version": "3.6.8",
            "mimetype": "text/x-python",
            "codemirror_mode": {
                "name": "ipython",
                "version": 3
            },
            "pygments_lexer": "ipython3",
            "nbconvert_exporter": "python",
            "file_extension": ".py"
        }
    },
    "nbformat": 4,
    "nbformat_minor": 1
}